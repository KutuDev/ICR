{
  "nbformat": 4,
  "nbformat_minor": 0,
  "metadata": {
    "colab": {
      "name": "ICR_NB_1.ipynb",
      "provenance": [],
      "authorship_tag": "ABX9TyOTLfKL2xs3B/cI99aS5WwZ",
      "include_colab_link": true
    },
    "kernelspec": {
      "name": "python3",
      "display_name": "Python 3"
    },
    "language_info": {
      "name": "python"
    }
  },
  "cells": [
    {
      "cell_type": "markdown",
      "metadata": {
        "id": "view-in-github",
        "colab_type": "text"
      },
      "source": [
        "<a href=\"https://colab.research.google.com/github/KutuDev/ICR/blob/main/ICR_NB_1.ipynb\" target=\"_parent\"><img src=\"https://colab.research.google.com/assets/colab-badge.svg\" alt=\"Open In Colab\"/></a>"
      ]
    },
    {
      "cell_type": "markdown",
      "metadata": {
        "id": "x5BLPUsgIHJF"
      },
      "source": [
        "[Link to project doc](https://docs.google.com/document/d/1gvfd2d4TLOMZ2jkwtthcujIqy0_Oy39adKtCkTc5qCo/edit)"
      ]
    },
    {
      "cell_type": "markdown",
      "metadata": {
        "id": "Bbu-iiVBKkeZ"
      },
      "source": [
        "# Approach\n",
        "* 1. Deep learning based **entirely**. DL for all of table detection recognition, digit-strings/texts recognition. \n",
        "* 2. Hybrid-type. CV for table cell recognition and DL for digit-strings/texts recognition. "
      ]
    },
    {
      "cell_type": "markdown",
      "metadata": {
        "id": "EQPO1mWKI_GG"
      },
      "source": [
        "# Part 1: Dataset\n",
        "* Data importation\n",
        "* Preprocessing"
      ]
    },
    {
      "cell_type": "code",
      "metadata": {
        "colab": {
          "base_uri": "https://localhost:8080/"
        },
        "id": "hDpUF4G2clCj",
        "outputId": "0dee303e-240e-4be7-85de-dd880734cc2d"
      },
      "source": [
        "!git clone https://github.com/KutuDev/ICR"
      ],
      "execution_count": 1,
      "outputs": [
        {
          "output_type": "stream",
          "text": [
            "Cloning into 'ICR'...\n",
            "fatal: could not read Username for 'https://github.com': No such device or address\n"
          ],
          "name": "stdout"
        }
      ]
    },
    {
      "cell_type": "code",
      "metadata": {
        "id": "MoqeL3IQJKHG"
      },
      "source": [
        ""
      ],
      "execution_count": null,
      "outputs": []
    },
    {
      "cell_type": "markdown",
      "metadata": {
        "id": "8AIO1PwBJK3y"
      },
      "source": [
        "# Part 2: Table Detection"
      ]
    },
    {
      "cell_type": "code",
      "metadata": {
        "id": "yL1P8hCrI32w"
      },
      "source": [
        ""
      ],
      "execution_count": null,
      "outputs": []
    },
    {
      "cell_type": "markdown",
      "metadata": {
        "id": "s1GfG0RRJXZw"
      },
      "source": [
        "# Part 3: Table Structure Recognition"
      ]
    },
    {
      "cell_type": "code",
      "metadata": {
        "id": "sybD70PMKAQX"
      },
      "source": [
        ""
      ],
      "execution_count": null,
      "outputs": []
    },
    {
      "cell_type": "markdown",
      "metadata": {
        "id": "e_tXol7KJpj7"
      },
      "source": [
        "# Part 4: Digit-strings and Text Recognition"
      ]
    },
    {
      "cell_type": "code",
      "metadata": {
        "id": "vU9-gLn-JWqb"
      },
      "source": [
        ""
      ],
      "execution_count": null,
      "outputs": []
    },
    {
      "cell_type": "markdown",
      "metadata": {
        "id": "wMHx2mKDKCap"
      },
      "source": [
        "# Part 5: Post-processing and Excel spreadsheet output generation"
      ]
    },
    {
      "cell_type": "code",
      "metadata": {
        "id": "y9yyUGdCKRdS"
      },
      "source": [
        ""
      ],
      "execution_count": null,
      "outputs": []
    }
  ]
}